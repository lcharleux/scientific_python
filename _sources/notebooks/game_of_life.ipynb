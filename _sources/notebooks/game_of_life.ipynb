{
 "cells": [
  {
   "cell_type": "raw",
   "metadata": {
    "slideshow": {
     "slide_type": "skip"
    }
   },
   "source": [
    ".. codeauthor:: Ludovic Charleux <ludovic.charleux@univ-smb.fr>"
   ]
  },
  {
   "cell_type": "markdown",
   "metadata": {
    "slideshow": {
     "slide_type": "slide"
    }
   },
   "source": [
    "# Game of Life and other cellular automatons"
   ]
  },
  {
   "cell_type": "code",
   "execution_count": null,
   "metadata": {
    "slideshow": {
     "slide_type": "-"
    }
   },
   "outputs": [],
   "source": [
    "import numpy as np\n",
    "import pandas as pd\n",
    "import matplotlib.pyplot as plt\n",
    "%matplotlib nbagg\n",
    "from matplotlib import animation, rc, cm\n",
    "import IPython, io, urllib\n",
    "rc('animation', html='html5')"
   ]
  },
  {
   "cell_type": "markdown",
   "metadata": {
    "slideshow": {
     "slide_type": "slide"
    }
   },
   "source": [
    "## Introduction\n",
    "\n",
    "This notebook was inspired by the great video proposed by David Louapre available on his Youtube channel *\"Science Etonnante\"*:"
   ]
  },
  {
   "cell_type": "code",
   "execution_count": null,
   "metadata": {
    "slideshow": {
     "slide_type": "subslide"
    }
   },
   "outputs": [],
   "source": [
    "IPython.display.YouTubeVideo('S-W0NX97DB0')"
   ]
  },
  {
   "cell_type": "markdown",
   "metadata": {
    "slideshow": {
     "slide_type": "subslide"
    }
   },
   "source": [
    "The **Game of Life (GoL)** is a good way to learn about the use of object oriented programming, numpy and matplotlib. It is also a very interresting scientific and mathematical problem. The GoL belongs to the wider group of problems called **Cellular Automatons**. A lot of alternative sets of interresting rules have been created/discovered over time since the invention of the GoL. In this tutorial, we introduce a simple class that can solve all those problems called **Life Like Cellular Automatons (LLCA)**. \n",
    "\n",
    "Further readings:\n",
    "\n",
    "* https://en.wikipedia.org/wiki/Life-like_cellular_automaton"
   ]
  },
  {
   "cell_type": "markdown",
   "metadata": {
    "slideshow": {
     "slide_type": "slide"
    }
   },
   "source": [
    "## A generic class to simulate LLCAs"
   ]
  },
  {
   "cell_type": "code",
   "execution_count": null,
   "metadata": {
    "slideshow": {
     "slide_type": "subslide"
    }
   },
   "outputs": [],
   "source": [
    "class LLCA:\n",
    "    \"\"\"\n",
    "    A Life Like Cellular Automaton (LLCA)\n",
    "    \n",
    "    Inputs:\n",
    "    * C: a binary matrix representing the cells where 1 stands for alive and 0 for dead.\n",
    "    * rule: the rule of the in the format 'BXSY' where X and Y are the birth and survival conditions. \n",
    "            Example: GOL rule is \"B3S23\".\n",
    "    \"\"\"\n",
    "    def __init__(self, C = np.random.rand(50, 50), rule = \"B3S23\"):\n",
    "        self.C = np.array(C).astype(np.bool)\n",
    "        self.rule = rule\n",
    "    \n",
    "    def parse_rule(self):\n",
    "        \"\"\"\n",
    "        Parses the rule string\n",
    "        \"\"\"\n",
    "        r = self.rule.upper().split(\"S\") \n",
    "        B = np.array([int(i) for i in r[0][1:] ]).astype(np.int64)\n",
    "        S = np.array([int(i) for i in r[1] ]).astype(np.int64)\n",
    "        return B, S\n",
    "    \n",
    "    def neighbors(self):\n",
    "        \"\"\"\n",
    "        Returns the number of living neigbors of each cell.\n",
    "        \"\"\"\n",
    "        C = self.C\n",
    "        N = np.zeros(C.shape, dtype = np.int8) # Neighbors matrix\n",
    "        N[ :-1,  :  ]  += C[1:  , :  ] # Living cells south\n",
    "        N[ :  ,  :-1]  += C[ :  ,1:  ] # Living cells east\n",
    "        N[1:  ,  :  ]  += C[ :-1, :  ] # Living cells north\n",
    "        N[ :  , 1:  ]  += C[ :  , :-1] # Living cells west\n",
    "        N[ :-1,  :-1]  += C[1:  ,1:  ] # Living cells south east\n",
    "        N[1:  ,  :-1]  += C[ :-1,1:  ] # Living cells north east\n",
    "        N[1:  , 1:  ]  += C[ :-1, :-1] # Living cells north west\n",
    "        N[ :-1, 1:  ]  += C[1:  , :-1] # Living cells south west\n",
    "        return N\n",
    "    \n",
    "    def iterate(self):\n",
    "        \"\"\"\n",
    "        Iterates one time.\n",
    "        \"\"\"\n",
    "        B, S = self.parse_rule()\n",
    "        N = self.neighbors()\n",
    "        C = self.C\n",
    "        C1 = np.zeros(C.shape, dtype = np.int8)\n",
    "        for b in B: C1 += ((C == False) & (N == b))\n",
    "        for s in S: C1 += (C & (N == s))    \n",
    "        self.C[:] = C1 > 0\n",
    "        \n",
    "        \n",
    "        "
   ]
  },
  {
   "cell_type": "markdown",
   "metadata": {
    "slideshow": {
     "slide_type": "slide"
    }
   },
   "source": [
    "## The orginal Game of Life  (rule B3S23)"
   ]
  },
  {
   "cell_type": "code",
   "execution_count": null,
   "metadata": {
    "slideshow": {
     "slide_type": "subslide"
    }
   },
   "outputs": [],
   "source": [
    "# INITIAL CONFIGURATION\n",
    "N = 100\n",
    "t = np.linspace(0., 1., N+1)\n",
    "X, Y = np.meshgrid(t, t)\n",
    "f = 4\n",
    "C0 = np.sin(2. * np.pi * f * X ) * np.sin(2. * np.pi * 2 * f * Y )  > -.1\n",
    "g = LLCA(C0, rule = \"B3S23\") \n",
    "\n",
    "# ANIMATION\n",
    "def updatefig(*args):\n",
    "    g.iterate()\n",
    "    im.set_array(g.C)\n",
    "    return im,\n",
    "\n",
    "fig, ax = plt.subplots()\n",
    "ax.axis('off')\n",
    "im = plt.imshow(g.C, interpolation = \"nearest\", cmap = cm.binary, animated=True)\n",
    "anim = animation.FuncAnimation(fig, updatefig, frames=200, interval=50, blit=True)\n",
    "\n",
    "plt.close()\n",
    "anim\n",
    "#plt.show()"
   ]
  },
  {
   "cell_type": "markdown",
   "metadata": {
    "slideshow": {
     "slide_type": "slide"
    }
   },
   "source": [
    "## Alternative rule:  Day and Night (B3678S34678)"
   ]
  },
  {
   "cell_type": "code",
   "execution_count": null,
   "metadata": {
    "slideshow": {
     "slide_type": "subslide"
    }
   },
   "outputs": [],
   "source": [
    "N = 100\n",
    "t = np.linspace(0., 1., N+1)\n",
    "X, Y = np.meshgrid(t, t)\n",
    "f = 10\n",
    "C0 = np.sin(2. * np.pi * f * X ) * np.sin(2. * np.pi * 2 * f * Y )  > 0.\n",
    "\n",
    "g = LLCA(C0, rule = \"B3678S34678\") \n",
    "\n",
    "def updatefig(*args):\n",
    "    g.iterate()\n",
    "    im.set_array(g.C)\n",
    "    return im,\n",
    "\n",
    "\n",
    "fig, ax = plt.subplots()\n",
    "ax.axis('off')\n",
    "im = plt.imshow(g.C, interpolation = \"nearest\", cmap = cm.binary, animated=True)\n",
    "anim = animation.FuncAnimation(fig, updatefig, frames=200, interval=50, blit=True)\n",
    "plt.close()\n",
    "anim\n",
    "#plt.show()\n"
   ]
  },
  {
   "cell_type": "markdown",
   "metadata": {
    "slideshow": {
     "slide_type": "slide"
    }
   },
   "source": [
    "## Alternative rule: fractal-like B1S123"
   ]
  },
  {
   "cell_type": "code",
   "execution_count": null,
   "metadata": {
    "slideshow": {
     "slide_type": "subslide"
    }
   },
   "outputs": [],
   "source": [
    "N = 200\n",
    "C0 = np.zeros((N, N))\n",
    "C0[1,1] = 1\n",
    "\n",
    "g = LLCA(C0, rule = \"B1S123\") \n",
    "\n",
    "def updatefig(*args):\n",
    "    g.iterate()\n",
    "    im.set_array(g.C)\n",
    "    return im,\n",
    "\n",
    "\n",
    "fig, ax = plt.subplots()\n",
    "ax.axis('off')\n",
    "im = plt.imshow(g.C, interpolation = \"nearest\", cmap = cm.binary, animated=True)\n",
    "anim = animation.FuncAnimation(fig, updatefig, frames=200, interval=40, blit=True)\n",
    "plt.close()\n",
    "anim\n",
    "#plt.show()\n"
   ]
  },
  {
   "cell_type": "markdown",
   "metadata": {
    "slideshow": {
     "slide_type": "slide"
    }
   },
   "source": [
    "## Existing structures in GoL \n",
    "\n",
    "Let's simulate an existing puffer:\n",
    "\n",
    "http://www.conwaylife.com/patterns/hivenudger2_106.lif"
   ]
  },
  {
   "cell_type": "code",
   "execution_count": null,
   "metadata": {
    "slideshow": {
     "slide_type": "subslide"
    }
   },
   "outputs": [],
   "source": [
    "def life_parser(path, bottom_margin = 10, top_margin = 10, left_margin = 10, right_margin = 10):\n",
    "    \"\"\"\n",
    "    A life 1.06 file parser\n",
    "    \n",
    "    http://www.conwaylife.com/wiki/Life_1.06\n",
    "    \"\"\"\n",
    "    data = \"\".join([l for l in open(path).readlines() if not l.startswith(\"#\")])\n",
    "    data = pd.read_csv(io.StringIO(data), header = None, sep = \" \").values\n",
    "    xmin, xmax = data[:,0].min(), data[:,0].max()\n",
    "    ymin, ymax = data[:,1].min(), data[:,1].max()\n",
    "    C0 = np.zeros( (xmax - xmin + top_margin + bottom_margin, \n",
    "                    ymax - ymin + left_margin + right_margin) )\n",
    "    data[:,0] += -xmin + top_margin\n",
    "    data[:,1] += -ymin + left_margin\n",
    "    C0[data[:,0] , data[:,1]] = 1\n",
    "    return C0 \n",
    "\n",
    "path = \"_data/hivenudger2_106.lif\"\n",
    "C0 = life_parser(path, top_margin = 100).T[:, ::-1]\n",
    "fig, ax = plt.subplots()\n",
    "plt.imshow(C0, cmap = cm.binary)\n",
    "ax.axis('off')\n",
    "plt.show()\n"
   ]
  },
  {
   "cell_type": "code",
   "execution_count": null,
   "metadata": {
    "slideshow": {
     "slide_type": "subslide"
    }
   },
   "outputs": [],
   "source": [
    "g = LLCA(C0, rule = \"B3S23\") # B2S23 means Birth if 2 living neighbours and survival if 2 or 3 living neighbours\n",
    "\n",
    "def updatefig(*args):\n",
    "    g.iterate()\n",
    "    im.set_array(g.C)\n",
    "    return im,\n",
    "\n",
    "fig, ax = plt.subplots()\n",
    "im = plt.imshow(g.C, interpolation = \"nearest\", cmap = cm.binary, animated=True)\n",
    "anim = animation.FuncAnimation(fig, updatefig, frames=200, interval=50, blit=True)\n",
    "#ax.axis('off')\n",
    "plt.close()\n",
    "anim\n",
    "#plt.show()"
   ]
  }
 ],
 "metadata": {
  "celltoolbar": "Slideshow",
  "kernelspec": {
   "display_name": "Python 3",
   "language": "python",
   "name": "python3"
  },
  "language_info": {
   "codemirror_mode": {
    "name": "ipython",
    "version": 3
   },
   "file_extension": ".py",
   "mimetype": "text/x-python",
   "name": "python",
   "nbconvert_exporter": "python",
   "pygments_lexer": "ipython3",
   "version": "3.6.1"
  }
 },
 "nbformat": 4,
 "nbformat_minor": 2
}
