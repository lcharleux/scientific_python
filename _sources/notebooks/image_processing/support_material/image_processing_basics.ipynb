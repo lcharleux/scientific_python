{
 "cells": [
  {
   "cell_type": "markdown",
   "metadata": {},
   "source": [
    "# Basics\n",
    "\n",
    "In this notebook, we introduce basic ways to read, show, explore and save images.\n"
   ]
  },
  {
   "cell_type": "code",
   "execution_count": null,
   "metadata": {
    "collapsed": true
   },
   "outputs": [],
   "source": [
    "from PIL import Image\n",
    "import numpy as np\n",
    "import matplotlib.pyplot as plt\n",
    "from matplotlib import cm\n",
    "from scipy import ndimage\n",
    "import os\n",
    "%matplotlib nbagg"
   ]
  },
  {
   "cell_type": "markdown",
   "metadata": {},
   "source": [
    "You can download the image used in this example here (right-click to download it): \n",
    "\n",
    "![rabbit.pg](rabbit.jpg)\n",
    "\n",
    "The following code will work if the image is located in the same directory as the notebook itself. First, let's check if the file `rabbit.jpg` is in the current directory. "
   ]
  },
  {
   "cell_type": "code",
   "execution_count": 1,
   "metadata": {},
   "outputs": [
    {
     "name": "stdout",
     "output_type": "stream",
     "text": [
      "Ok, the file is in ['image_processing_basics.ipynb', 'rabbit.jpg', '.ipynb_checkpoints']\n"
     ]
    }
   ],
   "source": [
    "files = os.listdir(\"./\")\n",
    "if \"rabbit.jpg\" in files:\n",
    "    print(\"Ok, the file is in {0}\".format(files))\n",
    "else:\n",
    "    print(\"The file is not in {0} , retry !\".format(files))"
   ]
  },
  {
   "cell_type": "markdown",
   "metadata": {},
   "source": [
    "Now let's read it using **Python Image Library (aka PIL)**:"
   ]
  },
  {
   "cell_type": "code",
   "execution_count": null,
   "metadata": {},
   "outputs": [],
   "source": [
    "im = Image.open(\"rabbit.jpg\")\n",
    "im"
   ]
  },
  {
   "cell_type": "markdown",
   "metadata": {},
   "source": [
    "## Numerical images\n",
    "\n",
    "There are mainly two kinds of numerical images: \n",
    "\n",
    "* **Vectorial images** composed of basic geometric figures such as lines and polygons. They are very efficient to store schemes or curves. They are generally stored as `.svg`, `.pfg` or `.eps` files. In this tutorial, we will not work on such images.\n",
    "* **Raster images**, also called **bitmaps** in which data is structures as matrix of **pixels**. Each pixel can contain from 1 to 4 values called **channels**. Images can then be sub classed by their number of channels: \n",
    "    * A single channel image is called grayscale, \n",
    "    * Most color images use 3 channels, one for red (R), one for green (G) and one for blue (B). They are called RGB images. \n",
    "    * Some image formats use a fourth channel called **alpha** corresponding to the transparency level of a given pixel.\n",
    "    \n",
    "In the current image, the channel structure can be obtained as follows:"
   ]
  },
  {
   "cell_type": "code",
   "execution_count": null,
   "metadata": {},
   "outputs": [],
   "source": [
    "im.getbands()"
   ]
  },
  {
   "cell_type": "markdown",
   "metadata": {},
   "source": [
    "## From image to `numpy`\n",
    "\n",
    "Now, the channel data can be extracted as follows:"
   ]
  },
  {
   "cell_type": "code",
   "execution_count": null,
   "metadata": {},
   "outputs": [],
   "source": [
    "R, G, B = im.split()\n",
    "R = np.array(R)\n",
    "G = np.array(G)\n",
    "B = np.array(B)\n",
    "R"
   ]
  },
  {
   "cell_type": "code",
   "execution_count": null,
   "metadata": {},
   "outputs": [],
   "source": [
    "fig = plt.figure()\n",
    "ax1 = fig.add_subplot(1, 3, 1)\n",
    "plt.title(\"R\")\n",
    "plt.imshow(R, cmap = cm.gray)\n",
    "ax1.axis(\"off\")\n",
    "ax1 = fig.add_subplot(1, 3, 2)\n",
    "plt.title(\"G\")\n",
    "plt.imshow(G, cmap = cm.gray)\n",
    "ax1.axis(\"off\")\n",
    "ax1 = fig.add_subplot(1, 3, 3)\n",
    "plt.title(\"B\")\n",
    "plt.imshow(B, cmap = cm.gray)\n",
    "ax1.axis(\"off\")\n",
    "plt.show()\n"
   ]
  },
  {
   "cell_type": "markdown",
   "metadata": {},
   "source": [
    "## From `numpy` to image\n",
    "\n",
    "Let's now see how we can create an image from numpy."
   ]
  },
  {
   "cell_type": "code",
   "execution_count": null,
   "metadata": {
    "collapsed": true
   },
   "outputs": [],
   "source": [
    "r2 = np.arange(256).astype(np.uint8)\n",
    "g2 = np.arange(256).astype(np.uint8)\n",
    "R2, G2 = np.meshgrid(r2, g2)\n",
    "B2 = np.zeros_like(R2).astype(np.uint8)"
   ]
  },
  {
   "cell_type": "code",
   "execution_count": null,
   "metadata": {},
   "outputs": [],
   "source": [
    "im2 = Image.fromarray(np.dstack([R2, G2, B2]))\n",
    "im2"
   ]
  },
  {
   "cell_type": "markdown",
   "metadata": {},
   "source": [
    "Let's apply that to the rabbit image. For example, we can switch channels:"
   ]
  },
  {
   "cell_type": "code",
   "execution_count": null,
   "metadata": {},
   "outputs": [],
   "source": [
    "im3 = Image.fromarray(np.dstack([G, R, B]))\n",
    "im3"
   ]
  }
 ],
 "metadata": {
  "kernelspec": {
   "display_name": "Python 3",
   "language": "python",
   "name": "python3"
  },
  "language_info": {
   "codemirror_mode": {
    "name": "ipython",
    "version": 3
   },
   "file_extension": ".py",
   "mimetype": "text/x-python",
   "name": "python",
   "nbconvert_exporter": "python",
   "pygments_lexer": "ipython3",
   "version": "3.10.1"
  }
 },
 "nbformat": 4,
 "nbformat_minor": 2
}
