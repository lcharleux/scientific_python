{
 "cells": [
  {
   "cell_type": "markdown",
   "metadata": {},
   "source": [
    "# Introduction to numerical analysis: modelling a badminton shuttlecock\n",
    "\n",
    "## Introduction\n",
    "\n",
    "Badminton is the fastest ball sport, despite appearances. In this example, we will model the flight of the shuttlecock and numerically simulate its trajectory. To do this, we will use an ordinary differential equation solver to trace the acceleration back to the trajectory.\n"
   ]
  },
  {
   "cell_type": "code",
   "execution_count": null,
   "metadata": {},
   "outputs": [],
   "source": [
    "import IPython\n",
    "IPython.display.YouTubeVideo(\"wy5UraBy5co\")"
   ]
  },
  {
   "cell_type": "markdown",
   "metadata": {},
   "source": [
    "## Modelling Shuttlecock flight\n",
    "\n",
    "The shuttlecock can be seen as a punctual mass. Its acceleration is governed by Newton's second law:\n",
    "\n",
    "$$\n",
    "m \\vec{A}(M/R) = -mg \\vec y -\\frac{1}{2} \\rho V^2 A c_x \\vec T\n",
    "$$\n"
   ]
  },
  {
   "cell_type": "markdown",
   "metadata": {},
   "source": [
    "Further reading:\n",
    "\n",
    "* Badminton physics: http://www.worldbadminton.com/reference/documents/5084354.pdf\n",
    "* Drag coefficient: https://en.wikipedia.org/wiki/Drag_coefficient\n",
    "\n",
    "Simulation inputs:"
   ]
  },
  {
   "cell_type": "code",
   "execution_count": null,
   "metadata": {},
   "outputs": [],
   "source": [
    "%matplotlib notebook\n",
    "import numpy as np\n",
    "import pandas as pd\n",
    "import matplotlib.pyplot as plt\n",
    "from scipy import integrate\n",
    "import ipywidgets as ipw"
   ]
  },
  {
   "cell_type": "code",
   "execution_count": null,
   "metadata": {},
   "outputs": [],
   "source": [
    "v0  = 493. / 3.6 # Initial velocity [m/s]\n",
    "A   = 4.e-3      # Shuttlecock cross area [m**2]\n",
    "cx  = .62        # Drag coefficient []\n",
    "m   = 4.e-2      # Shuttlecock mass [kg]\n",
    "rho = 1.225      # Air density [kg/m**3]\n",
    "g   = 9.81       # Gravity [m/s**2]"
   ]
  },
  {
   "cell_type": "markdown",
   "metadata": {},
   "source": [
    "## Numerical simulation\n",
    "\n",
    "\n"
   ]
  },
  {
   "cell_type": "code",
   "execution_count": null,
   "metadata": {},
   "outputs": [],
   "source": [
    "def derivative(X, t):\n",
    "    \"\"\"\n",
    "    Target ODE: Newton's second law\n",
    "    \"\"\"\n",
    "    x, y, vx, vy = X\n",
    "    v = (vx**2 + vy**2)**.5\n",
    "    Tx, Ty = vx / v, vy / v\n",
    "    ax = -.5 * rho * v**2 * A * cx * Tx / m\n",
    "    ay = -.5 * rho * v**2 * A * cx * Ty / m - g\n",
    "    return np.array([vx, vy, ax, ay])\n",
    "\n",
    "\n",
    "x0, y0 = 0., 0.\n",
    "theta0 = 45.\n",
    "X0 = [x0, y0, v0* np.cos(np.radians(theta0)), v0* np.sin(np.radians(theta0))]\n",
    "t = np.linspace(0., 10., 200)\n",
    "sol = integrate.odeint(derivative, X0, t)\n",
    "out = pd.DataFrame(sol, columns = [\"x\", \"y\", \"vx\", \"vy\"])    \n",
    "out.head()  \n",
    "\n",
    "    "
   ]
  },
  {
   "cell_type": "code",
   "execution_count": null,
   "metadata": {},
   "outputs": [],
   "source": [
    "plt.figure()\n",
    "plt.plot(out.x, out.y)\n",
    "plt.grid()\n",
    "plt.ylim(0., 50.)\n",
    "plt.xlabel(\"Position, $x$\")\n",
    "plt.ylabel(\"Position, $y$\")\n",
    "plt.show()"
   ]
  },
  {
   "cell_type": "code",
   "execution_count": null,
   "metadata": {},
   "outputs": [],
   "source": [
    "thetas = [0., 10.,15., 20., 30., 45., 60., 80., 85.]\n",
    "plt.figure()\n",
    "\n",
    "for theta0 in thetas:\n",
    "    x0, y0 = 0., 3.\n",
    "    X0 = [x0, y0, v0* np.cos(np.radians(theta0)), v0* np.sin(np.radians(theta0))]\n",
    "    t = np.linspace(0., 10., 1000)\n",
    "    sol = integrate.odeint(derivative, X0, t)\n",
    "    out = pd.DataFrame(sol, columns = [\"x\", \"y\", \"vx\", \"vy\"])\n",
    "    out[\"t\"] = t\n",
    "    plt.plot(out.x, out.y, label = r\"$\\theta_0 = $\" + \"{0}\".format(theta0))\n",
    "plt.legend()    \n",
    "plt.grid()\n",
    "plt.ylim(0., 50.)\n",
    "plt.xlabel(\"Position, $x$\")\n",
    "plt.ylabel(\"Position, $y$\")\n",
    "plt.show()    "
   ]
  },
  {
   "cell_type": "markdown",
   "metadata": {},
   "source": [
    "### Range as a function of the initial angle $\\theta_0$"
   ]
  },
  {
   "cell_type": "code",
   "execution_count": null,
   "metadata": {},
   "outputs": [],
   "source": [
    "%%time\n",
    "thetas = np.linspace(-180., 180., 300)\n",
    "xmax = np.zeros_like(thetas)\n",
    "\n",
    "\n",
    "for i in range(len(thetas)):\n",
    "    theta0 = thetas[i]\n",
    "    x0, y0 = 0., 3.\n",
    "    X0 = [x0, y0, v0* np.sin(np.radians(theta0)), -v0* np.cos(np.radians(theta0))]\n",
    "    t = np.linspace(0., 10., 10000)\n",
    "    sol = integrate.odeint(derivative, X0, t)\n",
    "    out = pd.DataFrame(sol, columns = [\"x\", \"y\", \"vx\", \"vy\"])\n",
    "    xmax[i] = out[out.y < 0.].iloc[0].x"
   ]
  },
  {
   "cell_type": "code",
   "execution_count": null,
   "metadata": {},
   "outputs": [],
   "source": [
    "plt.figure()\n",
    "plt.plot(thetas, xmax)\n",
    "plt.grid()\n",
    "plt.xlabel(r\"Start angle $\\theta_0$\")\n",
    "plt.ylabel(r\"Range $x_m$\")\n",
    "plt.show()"
   ]
  },
  {
   "cell_type": "markdown",
   "metadata": {},
   "source": [
    "### A more interactive solution "
   ]
  },
  {
   "cell_type": "code",
   "execution_count": null,
   "metadata": {},
   "outputs": [],
   "source": [
    "N = 100\n",
    "\n",
    "\n",
    "\n",
    " \n",
    "x = np.zeros(N)\n",
    "y = x.copy()\n",
    "\n",
    "    \n",
    "plt.figure()\n",
    "line, = plt.plot(x, y, \"r-\", label = \"trajectory\")\n",
    "plt.grid()\n",
    "plt.xlim(0., 80.)\n",
    "plt.ylim(0., 80.)\n",
    "plt.xlabel(\"Position, $x$ [m]\")\n",
    "plt.ylabel(\"Position, $y$ [m]\")\n",
    "plt.legend()\n",
    "\n",
    "@ipw.interact(theta0 = (0.,90., 1.), v0 = (10., 500., 10))\n",
    "def simulate(theta0 = 45., v0 = 490.):\n",
    "    v0 /= 3.6\n",
    "    x0, y0 = 0., 0.\n",
    "    X0 = [x0, y0, v0* np.cos(np.radians(theta0)), v0* np.sin(np.radians(theta0))]\n",
    "    t = np.linspace(0., 10, 200)\n",
    "    sol = integrate.odeint(derivative, X0, t)\n",
    "    line.set_xdata(sol[:, 0])\n",
    "    line.set_ydata(sol[:, 1])"
   ]
  },
  {
   "cell_type": "code",
   "execution_count": null,
   "metadata": {},
   "outputs": [],
   "source": []
  }
 ],
 "metadata": {
  "kernelspec": {
   "display_name": "Python 3",
   "language": "python",
   "name": "python3"
  },
  "language_info": {
   "codemirror_mode": {
    "name": "ipython",
    "version": 3
   },
   "file_extension": ".py",
   "mimetype": "text/x-python",
   "name": "python",
   "nbconvert_exporter": "python",
   "pygments_lexer": "ipython3",
   "version": "3.7.3"
  }
 },
 "nbformat": 4,
 "nbformat_minor": 2
}
