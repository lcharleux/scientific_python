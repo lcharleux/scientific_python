{
 "cells": [
  {
   "cell_type": "markdown",
   "metadata": {},
   "source": [
    "# Interactive optimization"
   ]
  },
  {
   "cell_type": "code",
   "execution_count": null,
   "metadata": {},
   "outputs": [],
   "source": [
    "%matplotlib widget\n",
    "import matplotlib.pyplot as plt\n",
    "import numpy as np\n",
    "from scipy import optimize\n",
    "import ipywidgets as ipw\n",
    "from matplotlib import cm"
   ]
  },
  {
   "cell_type": "code",
   "execution_count": null,
   "metadata": {},
   "outputs": [],
   "source": [
    "def cost(p):\n",
    "    global counterCostCall\n",
    "    \"\"\"\n",
    "    Himmelblau cost function.\n",
    "    https://en.wikipedia.org/wiki/Himmelblau%27s_function\n",
    "    \"\"\"\n",
    "    \n",
    "    x, y = p \n",
    "    counterCostCall += 1\n",
    "    return (x**2 + y -11)**2 + (x + y**2 -7)**2\n",
    "\n",
    "counterCostCall = 0\n",
    "Nx, Ny = 100, 100\n",
    "x = np.linspace(-5., 5., Nx)\n",
    "y = np.linspace(-5., 5., Ny)\n",
    "X, Y = np.meshgrid(x, y)\n",
    "zf = np.array([X.flatten(), Y.flatten()])\n",
    "Z = cost(zf).reshape(Nx, Ny)\n",
    "Z = np.where(Z > 200., np.nan, Z)"
   ]
  },
  {
   "cell_type": "code",
   "execution_count": null,
   "metadata": {},
   "outputs": [],
   "source": [
    "counter = 1\n",
    "counterCostCall = 0\n",
    "P = np.zeros((1000, 2)) \n",
    "P[0] = -1., 0.\n",
    "def track(xk):\n",
    "    global counter, P\n",
    "    P[counter, :] = xk\n",
    "    counter +=1\n",
    "\n",
    "\n",
    "\n",
    "plt.figure()\n",
    "title = plt.title(\"\")\n",
    "plt.contourf(X, Y, Z, 20, cmap = cm.terrain)\n",
    "plt.colorbar()\n",
    "plt.contour(X, Y, Z, 20, cmap = cm.gray)\n",
    "line, = plt.plot(P[:, 0], P[:, 1], \"og-\", label = \"Path\")\n",
    "line0, = plt.plot(P[:1, 0], P[:1, 1], \"r*-\", label = \"Start\")\n",
    "line1, = plt.plot(P[counter-1:counter, 0], P[counter-1:counter, 1], \"bs-\", label = \"End\")\n",
    "plt.grid()\n",
    "plt.legend()\n",
    "\n",
    "plt.show()\n",
    "\n",
    "@ipw.interact(x0=(-4.,4, .1), \n",
    "              y0=(-4.,4, .1), \n",
    "              algorithm = [\"Nelder-Mead\", \"BFGS\", \"Powell\"])\n",
    "def run_optimization(x0 = 0., y0 = 0., algorithm = \"Nelder-Mead\"):\n",
    "    global P, counter, counterCostCall\n",
    "    counter = 1\n",
    "    counterCostCall = 0 \n",
    "    P *= np.nan\n",
    "    P[0] = x0, y0\n",
    "    sol = optimize.minimize(cost, [x0, y0], callback = track, method = algorithm)\n",
    "    line.set_xdata(P[:, 0])\n",
    "    line.set_ydata(P[:, 1])\n",
    "    line0.set_xdata(P[:1, 0])\n",
    "    line0.set_ydata(P[:1, 1])\n",
    "    line1.set_xdata(P[counter-1:counter, 0])\n",
    "    line1.set_ydata(P[counter-1:counter, 1])\n",
    "    title.set_text(\"Alg:{0}, Iters: {1}, CostCall: {4}, sol=({2:.1f},{3:.1f})\".format(algorithm, counter, sol.x[0], sol.x[1], counterCostCall) )\n"
   ]
  },
  {
   "cell_type": "code",
   "execution_count": null,
   "metadata": {},
   "outputs": [],
   "source": []
  },
  {
   "cell_type": "code",
   "execution_count": null,
   "metadata": {},
   "outputs": [],
   "source": []
  }
 ],
 "metadata": {
  "kernelspec": {
   "display_name": "Python 3",
   "language": "python",
   "name": "python3"
  },
  "language_info": {
   "codemirror_mode": {
    "name": "ipython",
    "version": 3
   },
   "file_extension": ".py",
   "mimetype": "text/x-python",
   "name": "python",
   "nbconvert_exporter": "python",
   "pygments_lexer": "ipython3",
   "version": "3.10.1"
  }
 },
 "nbformat": 4,
 "nbformat_minor": 2
}
